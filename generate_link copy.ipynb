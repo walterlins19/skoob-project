{
 "cells": [
  {
   "cell_type": "code",
   "execution_count": null,
   "metadata": {},
   "outputs": [
    {
     "name": "stdout",
     "output_type": "stream",
     "text": [
      "[{\"book_id\":153747,\"name\":\"Moby-Dick or, The Whale\",\"cover\":\"https://i.gr-assets.com/images/S/compressed.photo.goodreads.com/books/1327940656i/153747._SY75_.jpg\",\"url\":\"https://www.goodreads.com/book/show/153747.Moby_Dick_or_The_Whale?from_search=true&from_srp=true&qid=rESqM3M6s7&rank=1\",\"authors\":[\"Herman Melville\"],\"rating\":3.55,\"created_editions\":987,\"year\":1851},{\"book_id\":3209693,\"name\":\"Moby Dick\",\"cover\":\"https://i.gr-assets.com/images/S/compressed.photo.goodreads.com/books/1347576219i/3209693._SX50_.jpg\",\"url\":\"https://www.goodreads.com/book/show/3209693-moby-dick?from_search=true&from_srp=true&qid=rESqM3M6s7&rank=2\",\"authors\":[\"Rod Espinosa\",\"Herman Melville\"],\"rating\":3.55,\"created_editions\":6,\"year\":1851},{\"book_id\":2391,\"name\":\"Moby Dick\",\"cover\":\"https://i.gr-assets.com/images/S/compressed.photo.goodreads.com/books/1509908204i/2391._SX50_.jpg\",\"url\":\"https://www.goodreads.com/book/show/2391.Moby_Dick?from_search=true&from_srp=true&qid=rESqM3M6s7&rank=3\",\"authors\":[\"Shirley Bogart\",\"Herman Melville\"],\"rating\":3.83,\"created_editions\":18,\"year\":1979},{\"book_id\":11175728,\"name\":\"Why Read Moby-Dick?\",\"cover\":\"https://i.gr-assets.com/images/S/compressed.photo.goodreads.com/books/1347819726i/11175728._SX50_.jpg\",\"url\":\"https://www.goodreads.com/book/show/11175728-why-read-moby-dick?from_search=true&from_srp=true&qid=rESqM3M6s7&rank=4\",\"authors\":[\"Nathaniel Philbrick\"],\"rating\":3.76,\"created_editions\":16,\"year\":2010},{\"book_id\":651799,\"name\":\"Moby Dick\",\"cover\":\"https://i.gr-assets.com/images/S/compressed.photo.goodreads.com/books/1348391407i/651799._SX50_.jpg\",\"url\":\"https://www.goodreads.com/book/show/651799.Moby_Dick?from_search=true&from_srp=true&qid=rESqM3M6s7&rank=5\",\"authors\":[\"Lew Sayre Schwartz\",\"Dick Giordano\",\"Herman Melville\"],\"rating\":3.81,\"created_editions\":3,\"year\":2002},{\"book_id\":3733,\"name\":\"Redburn, White-Jacket, Moby-Dick\",\"cover\":\"https://i.gr-assets.com/images/S/compressed.photo.goodreads.com/books/1347244826i/3733._SY75_.jpg\",\"url\":\"https://www.goodreads.com/book/show/3733.Redburn_White_Jacket_Moby_Dick?from_search=true&from_srp=true&qid=rESqM3M6s7&rank=6\",\"authors\":[\"Herman Melville\",\"G. Thomas Tanselle\"],\"rating\":4.2,\"created_editions\":9,\"year\":1851},{\"book_id\":16065371,\"name\":\"Moby Dick: A BabyLit® Ocean Primer\",\"cover\":\"https://i.gr-assets.com/images/S/compressed.photo.goodreads.com/books/1356464661i/16065371._SX50_.jpg\",\"url\":\"https://www.goodreads.com/book/show/16065371-moby-dick?from_search=true&from_srp=true&qid=rESqM3M6s7&rank=7\",\"authors\":[\"Jennifer Adams\",\"Alison Oliver\"],\"rating\":3.82,\"created_editions\":4,\"year\":2013},{\"book_id\":13593636,\"name\":\"Cozy Classics: Moby Dick\",\"cover\":\"https://i.gr-assets.com/images/S/compressed.photo.goodreads.com/books/1344751132i/13593636._SX50_.jpg\",\"url\":\"https://www.goodreads.com/book/show/13593636-cozy-classics?from_search=true&from_srp=true&qid=rESqM3M6s7&rank=8\",\"authors\":[\"Jack  Wang\",\"Holman Wang\",\"Herman Melville\"],\"rating\":3.67,\"created_editions\":7,\"year\":2012},{\"book_id\":30400206,\"name\":\"Moby Dick\",\"cover\":\"https://i.gr-assets.com/images/S/compressed.photo.goodreads.com/books/1465687355i/30400206._SX50_.jpg\",\"url\":\"https://www.goodreads.com/book/show/30400206-moby-dick?from_search=true&from_srp=true&qid=rESqM3M6s7&rank=9\",\"authors\":[\"Christophe Chabouté\",\"Herman Melville\",\"Laure Dupont\"],\"rating\":4.1,\"created_editions\":14,\"year\":2014},{\"book_id\":4647114,\"name\":\"Moby Dick\",\"cover\":\"https://i.gr-assets.com/images/S/compressed.photo.goodreads.com/books/1347752355i/4647114._SY75_.jpg\",\"url\":\"https://www.goodreads.com/book/show/4647114-moby-dick?from_search=true&from_srp=true&qid=rESqM3M6s7&rank=10\",\"authors\":[\"Janet Lorimer\"],\"rating\":3.86,\"created_editions\":4}]\n"
     ]
    },
    {
     "ename": "TypeError",
     "evalue": "string indices must be integers, not 'str'",
     "output_type": "error",
     "traceback": [
      "\u001b[0;31m---------------------------------------------------------------------------\u001b[0m",
      "\u001b[0;31mTypeError\u001b[0m                                 Traceback (most recent call last)",
      "Cell \u001b[0;32mIn[3], line 22\u001b[0m\n\u001b[1;32m     19\u001b[0m data \u001b[38;5;241m=\u001b[39m data\u001b[38;5;241m.\u001b[39mdecode(\u001b[38;5;124m\"\u001b[39m\u001b[38;5;124mutf-8\u001b[39m\u001b[38;5;124m\"\u001b[39m)\n\u001b[1;32m     21\u001b[0m \u001b[38;5;66;03m# URL da imagem\u001b[39;00m\n\u001b[0;32m---> 22\u001b[0m image_url \u001b[38;5;241m=\u001b[39m \u001b[38;5;28mlist\u001b[39m(\u001b[43mdata\u001b[49m\u001b[43m[\u001b[49m\u001b[38;5;241;43m1\u001b[39;49m\u001b[43m]\u001b[49m\u001b[43m[\u001b[49m\u001b[38;5;124;43m\"\u001b[39;49m\u001b[38;5;124;43mcover\u001b[39;49m\u001b[38;5;124;43m\"\u001b[39;49m\u001b[43m]\u001b[49m)\n\u001b[1;32m     24\u001b[0m \u001b[38;5;66;03m# Fazendo o download da imagem\u001b[39;00m\n\u001b[1;32m     25\u001b[0m response \u001b[38;5;241m=\u001b[39m requests\u001b[38;5;241m.\u001b[39mget(image_url)\n",
      "\u001b[0;31mTypeError\u001b[0m: string indices must be integers, not 'str'"
     ]
    }
   ],
   "source": [
    "import http.client\n",
    "from PIL import Image\n",
    "from io import BytesIO\n",
    "import requests\n",
    "\n",
    "conn = http.client.HTTPSConnection(\"hapi-books.p.rapidapi.com\")\n",
    "\n",
    "headers = {\n",
    "    'x-rapidapi-key': \"567a545e60msh8fecd6a13c95adbp106bacjsn41754a801cde\",\n",
    "    'x-rapidapi-host': \"hapi-books.p.rapidapi.com\"\n",
    "}\n",
    "\n",
    "conn.request(\"GET\", \"/search/moby+dick\", headers=headers)\n",
    "\n",
    "res = conn.getresponse()\n",
    "data = res.read()\n",
    "\n",
    "print(data.decode(\"utf-8\"))\n",
    "data = data.decode(\"utf-8\")\n",
    "\n",
    "# URL da imagem\n",
    "image_url = list(data)[1]['cover']\n",
    "\n",
    "# Fazendo o download da imagem\n",
    "response = requests.get(image_url)\n",
    "if response.status_code == 200:\n",
    "    # Abrindo a imagem com Pillow\n",
    "    img = Image.open(BytesIO(response.content))\n",
    "    \n",
    "    # Exibindo a imagem\n",
    "    img.show()\n",
    "else:\n",
    "    print(\"Falha ao baixar a imagem.\")"
   ]
  },
  {
   "cell_type": "code",
   "execution_count": 1,
   "metadata": {},
   "outputs": [],
   "source": [
    "import flagpy as fp"
   ]
  },
  {
   "cell_type": "code",
   "execution_count": 8,
   "metadata": {},
   "outputs": [],
   "source": [
    "df = fp.get_flag_df()"
   ]
  },
  {
   "cell_type": "code",
   "execution_count": 9,
   "metadata": {},
   "outputs": [
    {
     "data": {
      "text/html": [
       "<div>\n",
       "<style scoped>\n",
       "    .dataframe tbody tr th:only-of-type {\n",
       "        vertical-align: middle;\n",
       "    }\n",
       "\n",
       "    .dataframe tbody tr th {\n",
       "        vertical-align: top;\n",
       "    }\n",
       "\n",
       "    .dataframe thead th {\n",
       "        text-align: right;\n",
       "    }\n",
       "</style>\n",
       "<table border=\"1\" class=\"dataframe\">\n",
       "  <thead>\n",
       "    <tr style=\"text-align: right;\">\n",
       "      <th></th>\n",
       "      <th>flag</th>\n",
       "    </tr>\n",
       "    <tr>\n",
       "      <th>country</th>\n",
       "      <th></th>\n",
       "    </tr>\n",
       "  </thead>\n",
       "  <tbody>\n",
       "    <tr>\n",
       "      <th>Afghanistan</th>\n",
       "      <td>[[[0, 0, 0], [0, 0, 0], [0, 0, 0], [0, 0, 0], ...</td>\n",
       "    </tr>\n",
       "    <tr>\n",
       "      <th>Albania</th>\n",
       "      <td>[[[255, 0, 0], [255, 0, 0], [255, 0, 0], [255,...</td>\n",
       "    </tr>\n",
       "    <tr>\n",
       "      <th>Algeria</th>\n",
       "      <td>[[[0, 102, 51], [0, 102, 51], [0, 102, 51], [0...</td>\n",
       "    </tr>\n",
       "    <tr>\n",
       "      <th>Andorra</th>\n",
       "      <td>[[[0, 0, 153], [0, 0, 153], [0, 0, 153], [0, 0...</td>\n",
       "    </tr>\n",
       "    <tr>\n",
       "      <th>Angola</th>\n",
       "      <td>[[[204, 0, 51], [204, 0, 51], [204, 0, 51], [2...</td>\n",
       "    </tr>\n",
       "    <tr>\n",
       "      <th>...</th>\n",
       "      <td>...</td>\n",
       "    </tr>\n",
       "    <tr>\n",
       "      <th>Venezuela</th>\n",
       "      <td>[[[255, 204, 0], [255, 204, 0], [255, 204, 0],...</td>\n",
       "    </tr>\n",
       "    <tr>\n",
       "      <th>Vietnam</th>\n",
       "      <td>[[[204, 51, 51], [204, 51, 51], [204, 51, 51],...</td>\n",
       "    </tr>\n",
       "    <tr>\n",
       "      <th>Yemen</th>\n",
       "      <td>[[[204, 0, 51], [204, 0, 51], [204, 0, 51], [2...</td>\n",
       "    </tr>\n",
       "    <tr>\n",
       "      <th>Zambia</th>\n",
       "      <td>[[[0, 153, 0], [0, 153, 0], [0, 153, 0], [0, 1...</td>\n",
       "    </tr>\n",
       "    <tr>\n",
       "      <th>Zimbabwe</th>\n",
       "      <td>[[[153, 153, 153], [0, 0, 0], [0, 0, 0], [0, 0...</td>\n",
       "    </tr>\n",
       "  </tbody>\n",
       "</table>\n",
       "<p>195 rows × 1 columns</p>\n",
       "</div>"
      ],
      "text/plain": [
       "                                                          flag\n",
       "country                                                       \n",
       "Afghanistan  [[[0, 0, 0], [0, 0, 0], [0, 0, 0], [0, 0, 0], ...\n",
       "Albania      [[[255, 0, 0], [255, 0, 0], [255, 0, 0], [255,...\n",
       "Algeria      [[[0, 102, 51], [0, 102, 51], [0, 102, 51], [0...\n",
       "Andorra      [[[0, 0, 153], [0, 0, 153], [0, 0, 153], [0, 0...\n",
       "Angola       [[[204, 0, 51], [204, 0, 51], [204, 0, 51], [2...\n",
       "...                                                        ...\n",
       "Venezuela    [[[255, 204, 0], [255, 204, 0], [255, 204, 0],...\n",
       "Vietnam      [[[204, 51, 51], [204, 51, 51], [204, 51, 51],...\n",
       "Yemen        [[[204, 0, 51], [204, 0, 51], [204, 0, 51], [2...\n",
       "Zambia       [[[0, 153, 0], [0, 153, 0], [0, 153, 0], [0, 1...\n",
       "Zimbabwe     [[[153, 153, 153], [0, 0, 0], [0, 0, 0], [0, 0...\n",
       "\n",
       "[195 rows x 1 columns]"
      ]
     },
     "execution_count": 9,
     "metadata": {},
     "output_type": "execute_result"
    }
   ],
   "source": [
    "df"
   ]
  },
  {
   "cell_type": "code",
   "execution_count": null,
   "metadata": {},
   "outputs": [],
   "source": [
    "# URL da imagem\n",
    "image_url = data[1][\"cover\"]\n",
    "\n",
    "# Fazendo o download da imagem\n",
    "response = requests.get(image_url)\n",
    "if response.status_code == 200:\n",
    "    # Abrindo a imagem com Pillow\n",
    "    img = Image.open(BytesIO(response.content))\n",
    "    \n",
    "    # Exibindo a imagem\n",
    "    img.show()\n",
    "else:\n",
    "    print(\"Falha ao baixar a imagem.\")"
   ]
  },
  {
   "cell_type": "code",
   "execution_count": null,
   "metadata": {},
   "outputs": [
    {
     "ename": "",
     "evalue": "",
     "output_type": "error",
     "traceback": [
      "\u001b[1;31mA execução de células com 'Python 3.12.7' requer o pacote ipykernel.\n",
      "\u001b[1;31mExecute o seguinte comando para instalar \"ipykernel\" no ambiente do Python. \n",
      "\u001b[1;31mComando: \"/opt/homebrew/bin/python3.12 -m pip install ipykernel -U --user --force-reinstall\""
     ]
    }
   ],
   "source": [
    "!pip3 install ipykernel"
   ]
  },
  {
   "cell_type": "code",
   "execution_count": 2,
   "metadata": {},
   "outputs": [
    {
     "name": "stdout",
     "output_type": "stream",
     "text": [
      "\n",
      "\u001b[1m[\u001b[0m\u001b[34;49mnotice\u001b[0m\u001b[1;39;49m]\u001b[0m\u001b[39;49m A new release of pip is available: \u001b[0m\u001b[31;49m24.2\u001b[0m\u001b[39;49m -> \u001b[0m\u001b[32;49m24.3.1\u001b[0m\n",
      "\u001b[1m[\u001b[0m\u001b[34;49mnotice\u001b[0m\u001b[1;39;49m]\u001b[0m\u001b[39;49m To update, run: \u001b[0m\u001b[32;49mpython3.13 -m pip install --upgrade pip\u001b[0m\n",
      "\u001b[1;31merror\u001b[0m: \u001b[1mexternally-managed-environment\u001b[0m\n",
      "\n",
      "\u001b[31m×\u001b[0m This environment is externally managed\n",
      "\u001b[31m╰─>\u001b[0m To install Python packages system-wide, try brew install\n",
      "\u001b[31m   \u001b[0m xyz, where xyz is the package you are trying to\n",
      "\u001b[31m   \u001b[0m install.\n",
      "\u001b[31m   \u001b[0m \n",
      "\u001b[31m   \u001b[0m If you wish to install a Python library that isn't in Homebrew,\n",
      "\u001b[31m   \u001b[0m use a virtual environment:\n",
      "\u001b[31m   \u001b[0m \n",
      "\u001b[31m   \u001b[0m python3 -m venv path/to/venv\n",
      "\u001b[31m   \u001b[0m source path/to/venv/bin/activate\n",
      "\u001b[31m   \u001b[0m python3 -m pip install xyz\n",
      "\u001b[31m   \u001b[0m \n",
      "\u001b[31m   \u001b[0m If you wish to install a Python application that isn't in Homebrew,\n",
      "\u001b[31m   \u001b[0m it may be easiest to use 'pipx install xyz', which will manage a\n",
      "\u001b[31m   \u001b[0m virtual environment for you. You can install pipx with\n",
      "\u001b[31m   \u001b[0m \n",
      "\u001b[31m   \u001b[0m brew install pipx\n",
      "\u001b[31m   \u001b[0m \n",
      "\u001b[31m   \u001b[0m You may restore the old behavior of pip by passing\n",
      "\u001b[31m   \u001b[0m the '--break-system-packages' flag to pip, or by adding\n",
      "\u001b[31m   \u001b[0m 'break-system-packages = true' to your pip.conf file. The latter\n",
      "\u001b[31m   \u001b[0m will permanently disable this error.\n",
      "\u001b[31m   \u001b[0m \n",
      "\u001b[31m   \u001b[0m If you disable this error, we STRONGLY recommend that you additionally\n",
      "\u001b[31m   \u001b[0m pass the '--user' flag to pip, or set 'user = true' in your pip.conf\n",
      "\u001b[31m   \u001b[0m file. Failure to do this can result in a broken Homebrew installation.\n",
      "\u001b[31m   \u001b[0m \n",
      "\u001b[31m   \u001b[0m Read more about this behavior here: <https://peps.python.org/pep-0668/>\n",
      "\n",
      "\u001b[1;35mnote\u001b[0m: If you believe this is a mistake, please contact your Python installation or OS distribution provider. You can override this, at the risk of breaking your Python installation or OS, by passing --break-system-packages.\n",
      "\u001b[1;36mhint\u001b[0m: See PEP 668 for the detailed specification.\n"
     ]
    }
   ],
   "source": [
    "!pip3 install plotly"
   ]
  },
  {
   "cell_type": "code",
   "execution_count": 3,
   "metadata": {},
   "outputs": [
    {
     "ename": "ModuleNotFoundError",
     "evalue": "No module named 'plotly'",
     "output_type": "error",
     "traceback": [
      "\u001b[0;31m---------------------------------------------------------------------------\u001b[0m",
      "\u001b[0;31mModuleNotFoundError\u001b[0m                       Traceback (most recent call last)",
      "Cell \u001b[0;32mIn[3], line 2\u001b[0m\n\u001b[1;32m      1\u001b[0m \u001b[38;5;28;01mimport\u001b[39;00m \u001b[38;5;21;01mpandas\u001b[39;00m \u001b[38;5;28;01mas\u001b[39;00m \u001b[38;5;21;01mpd\u001b[39;00m\n\u001b[0;32m----> 2\u001b[0m \u001b[38;5;28;01mimport\u001b[39;00m \u001b[38;5;21;01mplotly\u001b[39;00m\u001b[38;5;21;01m.\u001b[39;00m\u001b[38;5;21;01mgraph_objects\u001b[39;00m \u001b[38;5;28;01mas\u001b[39;00m \u001b[38;5;21;01mgo\u001b[39;00m\n\u001b[1;32m      3\u001b[0m \u001b[38;5;28;01mfrom\u001b[39;00m \u001b[38;5;21;01mdash\u001b[39;00m \u001b[38;5;28;01mimport\u001b[39;00m Dash, dcc, html\n\u001b[1;32m      5\u001b[0m \u001b[38;5;66;03m# Exemplo de dados de livros lidos\u001b[39;00m\n",
      "\u001b[0;31mModuleNotFoundError\u001b[0m: No module named 'plotly'"
     ]
    }
   ],
   "source": [
    "import pandas as pd\n",
    "import plotly.graph_objects as go\n",
    "from dash import Dash, dcc, html\n",
    "\n",
    "# Exemplo de dados de livros lidos\n",
    "data = {\n",
    "    'Título': ['Livro A', 'Livro B', 'Livro C', 'Livro D', 'Livro E'],\n",
    "    'Data de Leitura': ['2024-01-15', '2024-02-20', '2024-03-10', '2024-04-05', '2024-06-12'],\n",
    "    'Páginas': [250, 320, 180, 500, 275],\n",
    "    'Gênero': ['Ficção', 'Não-Ficção', 'Ficção', 'Ficção', 'Não-Ficção'],\n",
    "}\n",
    "\n",
    "# Criar DataFrame\n",
    "df = pd.DataFrame(data)\n",
    "df['Data de Leitura'] = pd.to_datetime(df['Data de Leitura'])\n",
    "\n",
    "# Estatísticas\n",
    "total_livros = len(df)\n",
    "total_paginas = df['Páginas'].sum()\n",
    "media_paginas = df['Páginas'].mean()\n",
    "livros_por_mes = df.groupby(df['Data de Leitura'].dt.to_period('M')).size().to_dict()\n",
    "\n",
    "# Iniciar a aplicação Dash\n",
    "app = Dash(__name__)\n",
    "\n",
    "# Layout da aplicação com cards\n",
    "app.layout = html.Div(\n",
    "    style={'display': 'flex', 'flexWrap': 'wrap', 'justifyContent': 'space-around'},\n",
    "    children=[\n",
    "        html.Div(\n",
    "            children=[\n",
    "                html.H3(\"Total de Livros Lidos\", style={'textAlign': 'center'}),\n",
    "                html.Div(f\"{total_livros}\", style={'fontSize': 50, 'textAlign': 'center', 'color': 'blue'}),\n",
    "            ],\n",
    "            style={'border': '1px solid #ddd', 'borderRadius': '10px', 'width': '250px', 'padding': '20px', 'margin': '10px'}\n",
    "        ),\n",
    "        html.Div(\n",
    "            children=[\n",
    "                html.H3(\"Total de Páginas Lidas\", style={'textAlign': 'center'}),\n",
    "                html.Div(f\"{total_paginas}\", style={'fontSize': 50, 'textAlign': 'center', 'color': 'green'}),\n",
    "            ],\n",
    "            style={'border': '1px solid #ddd', 'borderRadius': '10px', 'width': '250px', 'padding': '20px', 'margin': '10px'}\n",
    "        ),\n",
    "        html.Div(\n",
    "            children=[\n",
    "                html.H3(\"Média de Páginas por Livro\", style={'textAlign': 'center'}),\n",
    "                html.Div(f\"{media_paginas:.1f}\", style={'fontSize': 50, 'textAlign': 'center', 'color': 'orange'}),\n",
    "            ],\n",
    "            style={'border': '1px solid #ddd', 'borderRadius': '10px', 'width': '250px', 'padding': '20px', 'margin': '10px'}\n",
    "        ),\n",
    "        html.Div(\n",
    "            children=[\n",
    "                html.H3(\"Livros Lidos por Mês\", style={'textAlign': 'center'}),\n",
    "                dcc.Graph(\n",
    "                    figure={\n",
    "                        'data': [\n",
    "                            go.Bar(\n",
    "                                x=list(livros_por_mes.keys()),\n",
    "                                y=list(livros_por_mes.values()),\n",
    "                                name='Livros Lidos por Mês'\n",
    "                            )\n",
    "                        ],\n",
    "                        'layout': go.Layout(\n",
    "                            title='Livros Lidos por Mês',\n",
    "                            xaxis={'title': 'Mês'},\n",
    "                            yaxis={'title': 'Quantidade de Livros'},\n",
    "                        )\n",
    "                    },\n",
    "                    style={'width': '100%', 'height': '400px'}\n",
    "                ),\n",
    "            ],\n",
    "            style={'border': '1px solid #ddd', 'borderRadius': '10px', 'width': '100%', 'padding': '20px', 'margin': '10px'}\n",
    "        ),\n",
    "    ]\n",
    ")\n",
    "\n",
    "# Rodar o servidor Dash\n",
    "if __name__ == '__main__':\n",
    "    app.run_server(debug=True)"
   ]
  }
 ],
 "metadata": {
  "kernelspec": {
   "display_name": "venv",
   "language": "python",
   "name": "python3"
  },
  "language_info": {
   "codemirror_mode": {
    "name": "ipython",
    "version": 3
   },
   "file_extension": ".py",
   "mimetype": "text/x-python",
   "name": "python",
   "nbconvert_exporter": "python",
   "pygments_lexer": "ipython3",
   "version": "3.13.0"
  }
 },
 "nbformat": 4,
 "nbformat_minor": 2
}
