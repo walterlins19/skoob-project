{
 "cells": [
  {
   "cell_type": "code",
   "execution_count": null,
   "metadata": {},
   "outputs": [
    {
     "name": "stdout",
     "output_type": "stream",
     "text": [
      "[{\"book_id\":153747,\"name\":\"Moby-Dick or, The Whale\",\"cover\":\"https://i.gr-assets.com/images/S/compressed.photo.goodreads.com/books/1327940656i/153747._SY75_.jpg\",\"url\":\"https://www.goodreads.com/book/show/153747.Moby_Dick_or_The_Whale?from_search=true&from_srp=true&qid=rESqM3M6s7&rank=1\",\"authors\":[\"Herman Melville\"],\"rating\":3.55,\"created_editions\":987,\"year\":1851},{\"book_id\":3209693,\"name\":\"Moby Dick\",\"cover\":\"https://i.gr-assets.com/images/S/compressed.photo.goodreads.com/books/1347576219i/3209693._SX50_.jpg\",\"url\":\"https://www.goodreads.com/book/show/3209693-moby-dick?from_search=true&from_srp=true&qid=rESqM3M6s7&rank=2\",\"authors\":[\"Rod Espinosa\",\"Herman Melville\"],\"rating\":3.55,\"created_editions\":6,\"year\":1851},{\"book_id\":2391,\"name\":\"Moby Dick\",\"cover\":\"https://i.gr-assets.com/images/S/compressed.photo.goodreads.com/books/1509908204i/2391._SX50_.jpg\",\"url\":\"https://www.goodreads.com/book/show/2391.Moby_Dick?from_search=true&from_srp=true&qid=rESqM3M6s7&rank=3\",\"authors\":[\"Shirley Bogart\",\"Herman Melville\"],\"rating\":3.83,\"created_editions\":18,\"year\":1979},{\"book_id\":11175728,\"name\":\"Why Read Moby-Dick?\",\"cover\":\"https://i.gr-assets.com/images/S/compressed.photo.goodreads.com/books/1347819726i/11175728._SX50_.jpg\",\"url\":\"https://www.goodreads.com/book/show/11175728-why-read-moby-dick?from_search=true&from_srp=true&qid=rESqM3M6s7&rank=4\",\"authors\":[\"Nathaniel Philbrick\"],\"rating\":3.76,\"created_editions\":16,\"year\":2010},{\"book_id\":651799,\"name\":\"Moby Dick\",\"cover\":\"https://i.gr-assets.com/images/S/compressed.photo.goodreads.com/books/1348391407i/651799._SX50_.jpg\",\"url\":\"https://www.goodreads.com/book/show/651799.Moby_Dick?from_search=true&from_srp=true&qid=rESqM3M6s7&rank=5\",\"authors\":[\"Lew Sayre Schwartz\",\"Dick Giordano\",\"Herman Melville\"],\"rating\":3.81,\"created_editions\":3,\"year\":2002},{\"book_id\":3733,\"name\":\"Redburn, White-Jacket, Moby-Dick\",\"cover\":\"https://i.gr-assets.com/images/S/compressed.photo.goodreads.com/books/1347244826i/3733._SY75_.jpg\",\"url\":\"https://www.goodreads.com/book/show/3733.Redburn_White_Jacket_Moby_Dick?from_search=true&from_srp=true&qid=rESqM3M6s7&rank=6\",\"authors\":[\"Herman Melville\",\"G. Thomas Tanselle\"],\"rating\":4.2,\"created_editions\":9,\"year\":1851},{\"book_id\":16065371,\"name\":\"Moby Dick: A BabyLit® Ocean Primer\",\"cover\":\"https://i.gr-assets.com/images/S/compressed.photo.goodreads.com/books/1356464661i/16065371._SX50_.jpg\",\"url\":\"https://www.goodreads.com/book/show/16065371-moby-dick?from_search=true&from_srp=true&qid=rESqM3M6s7&rank=7\",\"authors\":[\"Jennifer Adams\",\"Alison Oliver\"],\"rating\":3.82,\"created_editions\":4,\"year\":2013},{\"book_id\":13593636,\"name\":\"Cozy Classics: Moby Dick\",\"cover\":\"https://i.gr-assets.com/images/S/compressed.photo.goodreads.com/books/1344751132i/13593636._SX50_.jpg\",\"url\":\"https://www.goodreads.com/book/show/13593636-cozy-classics?from_search=true&from_srp=true&qid=rESqM3M6s7&rank=8\",\"authors\":[\"Jack  Wang\",\"Holman Wang\",\"Herman Melville\"],\"rating\":3.67,\"created_editions\":7,\"year\":2012},{\"book_id\":30400206,\"name\":\"Moby Dick\",\"cover\":\"https://i.gr-assets.com/images/S/compressed.photo.goodreads.com/books/1465687355i/30400206._SX50_.jpg\",\"url\":\"https://www.goodreads.com/book/show/30400206-moby-dick?from_search=true&from_srp=true&qid=rESqM3M6s7&rank=9\",\"authors\":[\"Christophe Chabouté\",\"Herman Melville\",\"Laure Dupont\"],\"rating\":4.1,\"created_editions\":14,\"year\":2014},{\"book_id\":4647114,\"name\":\"Moby Dick\",\"cover\":\"https://i.gr-assets.com/images/S/compressed.photo.goodreads.com/books/1347752355i/4647114._SY75_.jpg\",\"url\":\"https://www.goodreads.com/book/show/4647114-moby-dick?from_search=true&from_srp=true&qid=rESqM3M6s7&rank=10\",\"authors\":[\"Janet Lorimer\"],\"rating\":3.86,\"created_editions\":4}]\n"
     ]
    },
    {
     "ename": "TypeError",
     "evalue": "string indices must be integers, not 'str'",
     "output_type": "error",
     "traceback": [
      "\u001b[0;31m---------------------------------------------------------------------------\u001b[0m",
      "\u001b[0;31mTypeError\u001b[0m                                 Traceback (most recent call last)",
      "Cell \u001b[0;32mIn[3], line 22\u001b[0m\n\u001b[1;32m     19\u001b[0m data \u001b[38;5;241m=\u001b[39m data\u001b[38;5;241m.\u001b[39mdecode(\u001b[38;5;124m\"\u001b[39m\u001b[38;5;124mutf-8\u001b[39m\u001b[38;5;124m\"\u001b[39m)\n\u001b[1;32m     21\u001b[0m \u001b[38;5;66;03m# URL da imagem\u001b[39;00m\n\u001b[0;32m---> 22\u001b[0m image_url \u001b[38;5;241m=\u001b[39m \u001b[38;5;28mlist\u001b[39m(\u001b[43mdata\u001b[49m\u001b[43m[\u001b[49m\u001b[38;5;241;43m1\u001b[39;49m\u001b[43m]\u001b[49m\u001b[43m[\u001b[49m\u001b[38;5;124;43m\"\u001b[39;49m\u001b[38;5;124;43mcover\u001b[39;49m\u001b[38;5;124;43m\"\u001b[39;49m\u001b[43m]\u001b[49m)\n\u001b[1;32m     24\u001b[0m \u001b[38;5;66;03m# Fazendo o download da imagem\u001b[39;00m\n\u001b[1;32m     25\u001b[0m response \u001b[38;5;241m=\u001b[39m requests\u001b[38;5;241m.\u001b[39mget(image_url)\n",
      "\u001b[0;31mTypeError\u001b[0m: string indices must be integers, not 'str'"
     ]
    }
   ],
   "source": [
    "import http.client\n",
    "from PIL import Image\n",
    "from io import BytesIO\n",
    "import requests\n",
    "\n",
    "conn = http.client.HTTPSConnection(\"hapi-books.p.rapidapi.com\")\n",
    "\n",
    "headers = {\n",
    "    'x-rapidapi-key': \"567a545e60msh8fecd6a13c95adbp106bacjsn41754a801cde\",\n",
    "    'x-rapidapi-host': \"hapi-books.p.rapidapi.com\"\n",
    "}\n",
    "\n",
    "conn.request(\"GET\", \"/search/moby+dick\", headers=headers)\n",
    "\n",
    "res = conn.getresponse()\n",
    "data = res.read()\n",
    "\n",
    "print(data.decode(\"utf-8\"))\n",
    "data = data.decode(\"utf-8\")\n",
    "\n",
    "# URL da imagem\n",
    "image_url = list(data)[1]['cover']\n",
    "\n",
    "# Fazendo o download da imagem\n",
    "response = requests.get(image_url)\n",
    "if response.status_code == 200:\n",
    "    # Abrindo a imagem com Pillow\n",
    "    img = Image.open(BytesIO(response.content))\n",
    "    \n",
    "    # Exibindo a imagem\n",
    "    img.show()\n",
    "else:\n",
    "    print(\"Falha ao baixar a imagem.\")"
   ]
  },
  {
   "cell_type": "code",
   "execution_count": null,
   "metadata": {},
   "outputs": [],
   "source": [
    "# URL da imagem\n",
    "image_url = data[1][\"cover\"]\n",
    "\n",
    "# Fazendo o download da imagem\n",
    "response = requests.get(image_url)\n",
    "if response.status_code == 200:\n",
    "    # Abrindo a imagem com Pillow\n",
    "    img = Image.open(BytesIO(response.content))\n",
    "    \n",
    "    # Exibindo a imagem\n",
    "    img.show()\n",
    "else:\n",
    "    print(\"Falha ao baixar a imagem.\")"
   ]
  },
  {
   "cell_type": "code",
   "execution_count": null,
   "metadata": {},
   "outputs": [
    {
     "ename": "",
     "evalue": "",
     "output_type": "error",
     "traceback": [
      "\u001b[1;31mA execução de células com 'Python 3.12.7' requer o pacote ipykernel.\n",
      "\u001b[1;31mExecute o seguinte comando para instalar \"ipykernel\" no ambiente do Python. \n",
      "\u001b[1;31mComando: \"/opt/homebrew/bin/python3.12 -m pip install ipykernel -U --user --force-reinstall\""
     ]
    }
   ],
   "source": [
    "!pip3 install ipykernel"
   ]
  }
 ],
 "metadata": {
  "kernelspec": {
   "display_name": "Python 3",
   "language": "python",
   "name": "python3"
  },
  "language_info": {
   "codemirror_mode": {
    "name": "ipython",
    "version": 3
   },
   "file_extension": ".py",
   "mimetype": "text/x-python",
   "name": "python",
   "nbconvert_exporter": "python",
   "pygments_lexer": "ipython3",
   "version": "3.11.10"
  }
 },
 "nbformat": 4,
 "nbformat_minor": 2
}
